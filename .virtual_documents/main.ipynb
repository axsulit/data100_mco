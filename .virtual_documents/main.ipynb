

















# imports

# file read














import pandas as pd 
import numpy as np 
import seaborn as sns
import matplotlib.pyplot as plt
import datetime as dt


df = pd.read_csv('kc_house_data.csv')


df






























