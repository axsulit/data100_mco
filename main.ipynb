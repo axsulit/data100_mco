{
 "cells": [
  {
   "cell_type": "markdown",
   "metadata": {},
   "source": [
    "# DATA100 S15 - House Prices EDA"
   ]
  },
  {
   "cell_type": "markdown",
   "metadata": {},
   "source": [
    "#### Submitted by: Group 10\n",
    "\n",
    "<b>CORNELIO</b>, Job - 3rd Year, COS<br>\n",
    "<b>AMOS</b>, Cy Adrienne C. - nth Year, College<br>\n",
    "<b>SIOCO</b>, Megan Rylene A. - 3rd Year, CCS<br> \n",
    "<b>SULIT</b>, Anne Gabrielle M. - 4th Year, CCS\n",
    "\n",
    "\n",
    "#### Submitted to:\n",
    "MR. EDUARDO F. VALDEZ"
   ]
  },
  {
   "cell_type": "markdown",
   "metadata": {},
   "source": [
    "## 1. Introduction"
   ]
  },
  {
   "cell_type": "markdown",
   "metadata": {},
   "source": [
    "Discuss problem. Establish kind of task to do."
   ]
  },
  {
   "cell_type": "markdown",
   "metadata": {},
   "source": [
    "### The Dataset"
   ]
  },
  {
   "cell_type": "markdown",
   "metadata": {},
   "source": [
    "\n",
    "This project uses the [House Sales in King County](https://www.kaggle.com/datasets/harlfoxem/housesalesprediction/data) dataset from Kaggle that contains house sale transactions for King County, including Seattle, WA, and the USA. It includes homes sold between May 2014 and May 2015. Each data instance contains details about each property’s physical attributes, location, and transaction history, all of which are essential to find out what factors influence house sales. As recommended, the dataset can be viewed as a regression task.\n",
    "\n",
    "\n",
    "The notebook will refer to this dataset as `house_prices_df`. It is provided as a single .csv file where each row represents a property transaction, and each column corresponds to a specific attribute of that property. "
   ]
  },
  {
   "cell_type": "markdown",
   "metadata": {},
   "source": [
    "**Dataset Structure**\n",
    "- **Observations**: 21,614\n",
    "- **Variables**: 20\n",
    "\n",
    "\n",
    "**Transaction Attributes (2)**:\n",
    "- **`date`**: Date of sale for the house.\n",
    "- **`price`**: Sale price of the house in USD.\n",
    "\n",
    "**House Attributes (18)**:\n",
    "- **`bedrooms`**: Number of bedrooms in the house.\n",
    "- **`bathrooms`**: Number of bathrooms in the house.\n",
    "- **`sqft_living`**: Living area size in square feet .\n",
    "- **`sqft_lot`**: Total lot size in square feet.\n",
    "- **`floors`**: Number of floors in the house.\n",
    "- **`waterfront`**: Indicates if the house has a waterfront view (1 = Yes, 0 = No).\n",
    "- **`view`**: Quality of the view from the house, rated from 0 (no view) to 4 (excellent view).\n",
    "- **`condition`**: Condition of the house on a scale from 1 (poor) to 5 (excellent).\n",
    "- **`grade`**: Construction quality grade based on materials and workmanship, with higher grades indicating better quality.\n",
    "- **`sqft_above`**: Size of the above-ground area in square feet.\n",
    "- **`sqft_basement`**: Size of the basement area in square feet.\n",
    "- **`yr_built`**: Year the house was built.\n",
    "- **`yr_renovated`**: Year the house was last renovated (0 if never renovated).\n",
    "- **`zipcode`**: 5-digit postal code for the house location.\n",
    "- **`lat`**: Latitude coordinate of the house location.\n",
    "- **`long`**: Longitude coordinate of the house location.\n",
    "- **`sqft_living15`**: Average interior living space in square feet for the nearest 15 houses.\n",
    "- **`sqft_lot15`**: Average lot size in square feet for the nearest 15 houses.\n",
    "\n",
    "**Identifier (1)**:\n",
    "- **`Id`**: Unique identifier for each house."
   ]
  },
  {
   "cell_type": "markdown",
   "metadata": {},
   "source": [
    "## 2. List of Requirements"
   ]
  },
  {
   "cell_type": "markdown",
   "metadata": {},
   "source": [
    "**Importing Libraries**"
   ]
  },
  {
   "cell_type": "code",
   "execution_count": null,
   "metadata": {},
   "outputs": [],
   "source": [
    "import pandas as pd"
   ]
  },
  {
   "cell_type": "markdown",
   "metadata": {},
   "source": [
    "**Loading the Dataset**"
   ]
  },
  {
   "cell_type": "code",
   "execution_count": null,
   "metadata": {},
   "outputs": [],
   "source": [
    "house_prices_df = pd.read_csv('kc_house_data.csv')\n",
    "house_prices_df.info()"
   ]
  },
  {
   "cell_type": "markdown",
   "metadata": {},
   "source": [
    "## 3. Exporatory Analysis"
   ]
  },
  {
   "cell_type": "markdown",
   "metadata": {},
   "source": [
    "Describe data and show what kind of initial features you are dealing with. You can point anomalies / outliers in the data. Discuss patterns or findings."
   ]
  },
  {
   "cell_type": "markdown",
   "metadata": {},
   "source": [
    "## 4. Data Cleaning"
   ]
  },
  {
   "cell_type": "markdown",
   "metadata": {},
   "source": [
    "Explain why data was preprocessed that way.\n",
    "If you removed data, explain why removing the data was necessary."
   ]
  },
  {
   "cell_type": "markdown",
   "metadata": {},
   "source": [
    "## 5. Feature Extraction"
   ]
  },
  {
   "cell_type": "markdown",
   "metadata": {},
   "source": [
    "Explain what these features are and why they may help."
   ]
  },
  {
   "cell_type": "markdown",
   "metadata": {},
   "source": [
    "## 6. Exploratory Data Analysis"
   ]
  },
  {
   "cell_type": "markdown",
   "metadata": {},
   "source": [
    "Explain what charts show and what insights can be seen from it. It is required ro use statistical techniques. You may use techniques not discussed in class. \n",
    "\n",
    "// I think we should try ML modelling as well since madali lng naman ung topic and the dataset was made for it anyway"
   ]
  },
  {
   "cell_type": "markdown",
   "metadata": {},
   "source": [
    "## 7. Summary of Findings and Recommendations"
   ]
  },
  {
   "cell_type": "markdown",
   "metadata": {},
   "source": [
    "Lorem ipsum."
   ]
  },
  {
   "cell_type": "markdown",
   "metadata": {},
   "source": [
    "## 8. Future Work"
   ]
  },
  {
   "cell_type": "markdown",
   "metadata": {},
   "source": [
    "Include gantt chart that has a timeline of the enxt steps if you are given 2-4 months to continue this project. <br>\n",
    "If you did not implement ML, what are the candidate techniques that you plan. Give an explanation: what are the possible benefits or improvements of these ML techniques from what you implements in EDA and details. <br>\n",
    "If you were able to implement ML, what are other or more advanced techniques that you plan to implement? Include details and how these compare to the one you implemented. <br>"
   ]
  },
  {
   "cell_type": "markdown",
   "metadata": {},
   "source": [
    "## 9. References"
   ]
  },
  {
   "cell_type": "markdown",
   "metadata": {},
   "source": [
    "You are encouraged to look at existing solutions online and learn from them. "
   ]
  }
 ],
 "metadata": {
  "kernelspec": {
   "display_name": ".venv",
   "language": "python",
   "name": "python3"
  },
  "language_info": {
   "codemirror_mode": {
    "name": "ipython",
    "version": 3
   },
   "file_extension": ".py",
   "mimetype": "text/x-python",
   "name": "python",
   "nbconvert_exporter": "python",
   "pygments_lexer": "ipython3",
   "version": "3.9.6"
  }
 },
 "nbformat": 4,
 "nbformat_minor": 4
}
